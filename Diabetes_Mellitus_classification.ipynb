{
 "cells": [
  {
   "cell_type": "code",
   "execution_count": 13,
   "id": "398b6733",
   "metadata": {},
   "outputs": [],
   "source": [
    "import pandas as pd\n",
    "import numpy as np\n",
    "from sklearn.model_selection import train_test_split\n",
    "from sklearn.impute import SimpleImputer\n",
    "from sklearn.preprocessing import StandardScaler\n",
    "from sklearn.tree import DecisionTreeClassifier\n",
    "from sklearn.naive_bayes import GaussianNB\n",
    "from sklearn.metrics import confusion_matrix, accuracy_score, recall_score, ConfusionMatrixDisplay\n",
    "import matplotlib.pyplot as plt"
   ]
  },
  {
   "cell_type": "code",
   "execution_count": 2,
   "id": "4648240b",
   "metadata": {},
   "outputs": [],
   "source": [
    "#Load the Data\n",
    "data = pd.read_csv(\"pima_data_diabetes.csv\")\n",
    "\n",
    "#Replace zeros with NaN for selected columns\n",
    "columns_to_replace = [\"Glucose\", \"BloodPressure\", \"SkinThickness\", \"Insulin\", \"BMI\"]\n",
    "data[columns_to_replace] = data[columns_to_replace].replace(0, np.nan)\n",
    "\n",
    "#Drop missing values\n",
    "data.dropna(inplace=True)\n",
    "\n",
    "# Optional: Drop unnecessary columns\n",
    "data = data.drop(columns=['BloodPressure', 'DiabetesPedigreeFunction'])"
   ]
  },
  {
   "cell_type": "code",
   "execution_count": 3,
   "id": "21e1621e",
   "metadata": {},
   "outputs": [],
   "source": [
    "#Separate features and target\n",
    "X = data.iloc[:, :-1].values\n",
    "y = data.iloc[:, -1].values\n",
    "\n",
    "#Normalization\n",
    "scaler = StandardScaler()\n",
    "X_scaled = scaler.fit_transform(X)"
   ]
  },
  {
   "cell_type": "code",
   "execution_count": 4,
   "id": "f8a6869d",
   "metadata": {},
   "outputs": [],
   "source": [
    "#Train-Test Split\n",
    "x_train, x_test, y_train, y_test = train_test_split(X_scaled, y, test_size=0.15, random_state=42, stratify=y)"
   ]
  },
  {
   "cell_type": "code",
   "execution_count": 6,
   "id": "03a20561",
   "metadata": {},
   "outputs": [
    {
     "data": {
      "text/plain": [
       "GaussianNB()"
      ]
     },
     "execution_count": 6,
     "metadata": {},
     "output_type": "execute_result"
    }
   ],
   "source": [
    "#Train Models\n",
    "tree_model = DecisionTreeClassifier(random_state=42)\n",
    "NB_model = GaussianNB()\n",
    "tree_model.fit(x_train, y_train)\n",
    "NB_model.fit(x_train, y_train)"
   ]
  },
  {
   "cell_type": "code",
   "execution_count": 7,
   "id": "050f4dbc",
   "metadata": {},
   "outputs": [],
   "source": [
    "# Predictions\n",
    "tree_pred = tree_model.predict(x_test)\n",
    "NB_pred = NB_model.predict(x_test)"
   ]
  },
  {
   "cell_type": "code",
   "execution_count": 11,
   "id": "3697e9b5",
   "metadata": {},
   "outputs": [
    {
     "data": {
      "image/png": "[encoded data removed]",
      "text/plain": [
       "<Figure size 720x360 with 4 Axes>"
      ]
     },
     "metadata": {
      "needs_background": "light"
     },
     "output_type": "display_data"
    }
   ],
   "source": [
    "#Plot confusion matrices\n",
    "fig, axs = plt.subplots(1, 2, figsize=(10, 5))\n",
    "\n",
    "ConfusionMatrixDisplay.from_predictions(y_test, tree_pred, ax=axs[0])\n",
    "axs[0].set_title(\"Decision Tree Model\")\n",
    "\n",
    "ConfusionMatrixDisplay.from_predictions(y_test, NB_pred, ax=axs[1])\n",
    "axs[1].set_title(\"Naive Bayes Model\")\n",
    "\n",
    "plt.tight_layout()\n",
    "plt.show()"
   ]
  },
  {
   "cell_type": "code",
   "execution_count": 15,
   "id": "6be580d7",
   "metadata": {},
   "outputs": [
    {
     "name": "stdout",
     "output_type": "stream",
     "text": [
      "--- Decision Tree ---\n",
      "Accuracy   : 0.7797\n",
      "Sensitivity: 0.6000\n",
      "Specificity: 0.8718\n",
      "\n",
      "--- Naive Bayes ---\n",
      "Accuracy   : 0.7966\n",
      "Sensitivity: 0.7500\n",
      "Specificity: 0.8205\n",
      "\n"
     ]
    }
   ],
   "source": [
    "#Evaluation metrics \n",
    "def evaluate_model(y_true, y_pred, model_name):\n",
    "    cm = confusion_matrix(y_true, y_pred)\n",
    "    tn, fp, fn, tp = cm.ravel()\n",
    "\n",
    "    accuracy = accuracy_score(y_true, y_pred)\n",
    "    sensitivity = recall_score(y_true, y_pred)  # Same as recall for positive class\n",
    "    specificity = tn / (tn + fp)\n",
    "\n",
    "    print(f\"--- {model_name} ---\")\n",
    "    print(f\"Accuracy   : {accuracy:.4f}\")\n",
    "    print(f\"Sensitivity: {sensitivity:.4f}\")\n",
    "    print(f\"Specificity: {specificity:.4f}\")\n",
    "    print()\n",
    "\n",
    "    return cm\n",
    "\n",
    "cm_tree = evaluate_model(y_test, tree_pred, \"Decision Tree\")\n",
    "cm_NB = evaluate_model(y_test, NB_pred, \"Naive Bayes\")"
   ]
  },
  {
   "cell_type": "code",
   "execution_count": 16,
   "id": "c738b6f9",
   "metadata": {},
   "outputs": [
    {
     "data": {
      "text/plain": [
       "<sklearn.metrics._plot.confusion_matrix.ConfusionMatrixDisplay at 0x234697d4460>"
      ]
     },
     "execution_count": 16,
     "metadata": {},
     "output_type": "execute_result"
    },
    {
     "data": {
      "image/png": "[encoded data removed]",
      "text/plain": [
       "<Figure size 432x288 with 2 Axes>"
      ]
     },
     "metadata": {
      "needs_background": "light"
     },
     "output_type": "display_data"
    }
   ],
   "source": [
    "from sklearn.ensemble import RandomForestClassifier\n",
    "RF_model = RandomForestClassifier(random_state=42)\n",
    "RF_model.fit(x_train, y_train)\n",
    "RF_pred = RF_model.predict(x_test)\n",
    "ConfusionMatrixDisplay.from_predictions(y_test, RF_pred)"
   ]
  },
  {
   "cell_type": "code",
   "execution_count": null,
   "id": "33ef02bd",
   "metadata": {},
   "outputs": [],
   "source": []
  }
 ],
 "metadata": {
  "kernelspec": {
   "display_name": "Python 3 (ipykernel)",
   "language": "python",
   "name": "python3"
  },
  "language_info": {
   "codemirror_mode": {
    "name": "ipython",
    "version": 3
   },
   "file_extension": ".py",
   "mimetype": "text/x-python",
   "name": "python",
   "nbconvert_exporter": "python",
   "pygments_lexer": "ipython3",
   "version": "3.9.12"
  }
 },
 "nbformat": 4,
 "nbformat_minor": 5
}
